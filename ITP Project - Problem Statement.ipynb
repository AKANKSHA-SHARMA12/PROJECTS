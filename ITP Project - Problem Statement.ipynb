{
 "cells": [
  {
   "cell_type": "markdown",
   "metadata": {},
   "source": [
    "# ITP Mini Project "
   ]
  },
  {
   "cell_type": "markdown",
   "metadata": {},
   "source": [
    "We all have to maintain our own personal expenses in day to day life. It’s very normal for us to lose track of them and end up going out of budget. We require a way to keep ourself in within budget.\n",
    "\n",
    "This is where we can explore our skills in Python to come up with a solution. We can create a python program that allows you to keep track of the finance expenses.\n",
    "\n",
    "With the Finance Tracker, users can easily set a budget and add up their expenses to make better financial decisions. Anything beyond the budget will not be added up.\n",
    "\n",
    "**Objective:**To Estimate the Personal Financial Budget at the End of the Month."
   ]
  },
  {
   "cell_type": "code",
   "execution_count": null,
   "metadata": {},
   "outputs": [
    {
     "name": "stdout",
     "output_type": "stream",
     "text": [
      "1=Add on Expense\n",
      "2=Subtract the Expense\n",
      "3=Add on Revenue\n",
      "4=Subtract Revenue\n",
      "5=End\n",
      "4\n",
      "Please Enter the amount of income to be removed:4543\n",
      "The Overall remaining budget is: 45457\n",
      "1=Add on Expense\n",
      "2=Subtract the Expense\n",
      "3=Add on Revenue\n",
      "4=Subtract Revenue\n",
      "5=End\n",
      "5\n",
      "Thank you\n",
      "1=Add on Expense\n",
      "2=Subtract the Expense\n",
      "3=Add on Revenue\n",
      "4=Subtract Revenue\n",
      "5=End\n",
      "5\n",
      "Thank you\n",
      "1=Add on Expense\n",
      "2=Subtract the Expense\n",
      "3=Add on Revenue\n",
      "4=Subtract Revenue\n",
      "5=End\n"
     ]
    }
   ],
   "source": [
    "def main():\n",
    "    OverallBudget=50000\n",
    "    selection=0\n",
    "    while selection!='4':\n",
    "        print('1=Add on Expense')\n",
    "        print('2=Subtract the Expense')\n",
    "        print('3=Add on Revenue')\n",
    "        print('4=Subtract Revenue')\n",
    "        print('5=End')\n",
    "        \n",
    "        selection=int(input())\n",
    "        \n",
    "        if selection==1:\n",
    "            OverallBudget=additionofexpense(OverallBudget)\n",
    "        elif selection==2:\n",
    "            OverallBudget=subtractionofexpense(OverallBudget)\n",
    "        elif selection==3:\n",
    "            OverallBudget=additionofRevenue(OverallBudget)\n",
    "        elif selection==4:\n",
    "            OverallBudget=subtractionofRevenue(OverallBudget)\n",
    "        elif selection==5:\n",
    "            print('Thank you')\n",
    "        else:\n",
    "            print('Wrong entry,choose any other option')\n",
    "\n",
    "#ADDITION FOR EXPENSES\n",
    "\n",
    "def additionofexpense(OverallBudget):\n",
    "    billing=int(input('Please Enter The Expense amount:'))\n",
    "    manyBill=int(input('Please Enter Frequency of the Expense per month:'))\n",
    "    completebill=billing*manyBill\n",
    "    OverallBudget=OverallBudget-completebill\n",
    "    checkonBudget(OverallBudget)\n",
    "    return OverallBudget\n",
    "\n",
    "def subtractionofexpense(OverallBudget):\n",
    "    lessBill=int(input('Please enter the amount to be subtracted:'))\n",
    "    manyLess=int(input('Please Enter the frequency of the Expense subtracted per month:'))\n",
    "    totalLess=lessBill*manyLess\n",
    "    if totalLess<=(OverallBudget):\n",
    "        OverallBudget=OverallBudget+totalLess\n",
    "        checkonBudget(OverallBudget)\n",
    "    else:\n",
    "        print('Please re-check the amount entered')\n",
    "        return OverallBudget\n",
    "    \n",
    "def additionofRevenue(OverallBudget):\n",
    "    income=int(input(\"Please Enter the amount of additional income:\"))\n",
    "    OverallBudget=OverallBudget+income\n",
    "    checkonBudget(OverallBudget)\n",
    "    return OverallBudget\n",
    "\n",
    "def subtractionofRevenue(OverallBudget):\n",
    "    lossincome=int(input('Please Enter the amount of income to be removed:'))\n",
    "    OverallBudget=OverallBudget-lossincome\n",
    "    checkonBudget(OverallBudget)\n",
    "    return OverallBudget\n",
    "\n",
    "def checkonBudget(OverallBudget):\n",
    "    if OverallBudget>=0:\n",
    "        print('The Overall remaining budget is:',OverallBudget)\n",
    "    else:\n",
    "        print('You have exceeded the monthly budget')\n",
    "        print('Re-evaluate your expenses and balance the budget')\n",
    "        print('Current balance:',OverallBudget)\n",
    "main()\n"
   ]
  },
  {
   "cell_type": "code",
   "execution_count": null,
   "metadata": {},
   "outputs": [],
   "source": []
  }
 ],
 "metadata": {
  "kernelspec": {
   "display_name": "Python 3",
   "language": "python",
   "name": "python3"
  },
  "language_info": {
   "codemirror_mode": {
    "name": "ipython",
    "version": 3
   },
   "file_extension": ".py",
   "mimetype": "text/x-python",
   "name": "python",
   "nbconvert_exporter": "python",
   "pygments_lexer": "ipython3",
   "version": "3.7.3"
  }
 },
 "nbformat": 4,
 "nbformat_minor": 2
}
